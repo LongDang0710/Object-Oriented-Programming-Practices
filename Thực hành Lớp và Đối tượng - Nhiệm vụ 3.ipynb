{
 "cells": [
  {
   "cell_type": "code",
   "execution_count": null,
   "id": "a42fa0c7",
   "metadata": {},
   "outputs": [],
   "source": [
    "\"\"\"\n",
    "Tạo class có tên Equation gồm có các thuộc tính và phương thức sau:\n",
    "+ Thuộc tính: number1, number2\n",
    "+ Phương thức:\n",
    "- Phương thức tạo __init()__\n",
    "- print_info(): dùng để hiển thị number1, number2\n",
    "- add(): dùng để cộng number1, number2\n",
    "- subtract(): trừ number1, number2\n",
    "- multiply(): dùng để nhân number1, number2\n",
    "- divide(): dùng để chia number1, number2.\n",
    "\n",
    "Sau khi tạo class, khởi tạo một object Equation và in ra kết quả tính toán từ các hàm thực hiện phép tính\n",
    "\"\"\""
   ]
  },
  {
   "metadata": {
    "ExecuteTime": {
     "end_time": "2024-06-04T18:02:34.069642Z",
     "start_time": "2024-06-04T18:02:29.599935Z"
    }
   },
   "cell_type": "code",
   "source": [
    "class Equation:\n",
    "    def __init__(self, number1, number2):\n",
    "        self.number1 = number1\n",
    "        self.number2 = number2\n",
    "    \n",
    "    def print_info(self):\n",
    "        print(f\"Number 1: {self.number1}\")\n",
    "        print(f\"Number 2: {self.number2}\")\n",
    "    \n",
    "    def add(self):\n",
    "        return self.number1 + self.number2\n",
    "    \n",
    "    def subtract(self):\n",
    "        return self.number1 - self.number2\n",
    "    \n",
    "    def multiply(self):\n",
    "        return self.number1 * self.number2\n",
    "    \n",
    "    def divide(self):\n",
    "        if self.number2 != 0:\n",
    "            return self.number1 / self.number2\n",
    "        else:\n",
    "            return \"Cannot divide by zero\"\n",
    "\n",
    "# Yêu cầu người dùng nhập vào các giá trị number1 và number2\n",
    "number1 = float(input(\"Nhập vào số thứ nhất: \"))\n",
    "number2 = float(input(\"Nhập vào số thứ hai: \"))\n",
    "\n",
    "# Khởi tạo đối tượng Equation với các giá trị do người dùng nhập vào\n",
    "eq = Equation(number1, number2)\n",
    "\n",
    "# Hiển thị thông tin\n",
    "eq.print_info()\n",
    "\n",
    "# Thực hiện và in kết quả các phép tính\n",
    "print(f\"Add: {eq.add()}\")\n",
    "print(f\"Subtract: {eq.subtract()}\")\n",
    "print(f\"Multiply: {eq.multiply()}\")\n",
    "print(f\"Divide: {eq.divide()}\")"
   ],
   "id": "1e7a0240c6f1a1b8",
   "outputs": [
    {
     "name": "stdout",
     "output_type": "stream",
     "text": [
      "Number 1: 7.0\n",
      "Number 2: 10.0\n",
      "Add: 17.0\n",
      "Subtract: -3.0\n",
      "Multiply: 70.0\n",
      "Divide: 0.7\n"
     ]
    }
   ],
   "execution_count": 8
  },
  {
   "metadata": {},
   "cell_type": "code",
   "outputs": [],
   "execution_count": null,
   "source": "",
   "id": "4c476bd1f5611c21"
  }
 ],
 "metadata": {
  "kernelspec": {
   "display_name": "Python 3 (ipykernel)",
   "language": "python",
   "name": "python3"
  },
  "language_info": {
   "codemirror_mode": {
    "name": "ipython",
    "version": 3
   },
   "file_extension": ".py",
   "mimetype": "text/x-python",
   "name": "python",
   "nbconvert_exporter": "python",
   "pygments_lexer": "ipython3",
   "version": "3.9.6"
  }
 },
 "nbformat": 4,
 "nbformat_minor": 5
}
