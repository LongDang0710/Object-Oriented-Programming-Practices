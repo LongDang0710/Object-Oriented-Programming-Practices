{
 "cells": [
  {
   "cell_type": "code",
   "id": "1b7705b3",
   "metadata": {
    "ExecuteTime": {
     "end_time": "2024-06-04T18:06:49.838899Z",
     "start_time": "2024-06-04T18:06:49.831400Z"
    }
   },
   "source": [
    "\"\"\"\n",
    "Viết class NhanVien gồm các thuộc tính:\n",
    "+ Tên\n",
    "+ Tuổi\n",
    "+ Địa chỉ\n",
    "+ Tiền lương\n",
    "+ Tổng số giờ làm\n",
    "\n",
    "Và các phương thức:\n",
    "- Phương thức __init__()\n",
    "- print_info() : In ra tất cả các thông tin của nhân viên\n",
    "- tinh_thuong(): Tính toán và trả về số tiền thưởng của nhân viên theo công thức sau:\n",
    "Nếu tổng số giờ làm của nhân viên >=200 thì thưởng = lương * 20%\n",
    "Nếu tổng số giờ làm của nhân viên <200 và >=100 thì thưởng = lương * 10%\n",
    "Nếu tổng số giờ làm của nhân viên <100 thì thưởng = 0\n",
    "\"\"\""
   ],
   "outputs": [
    {
     "data": {
      "text/plain": [
       "'\\nViết class NhanVien gồm các thuộc tính:\\n+ Tên\\n+ Tuổi\\n+ Địa chỉ\\n+ Tiền lương\\n+ Tổng số giờ làm\\n\\nVà các phương thức:\\n- Phương thức __init__()\\n- print_info() : In ra tất cả các thông tin của nhân viên\\n- tinh_thuong(): Tính toán và trả về số tiền thưởng của nhân viên theo công thức sau:\\nNếu tổng số giờ làm của nhân viên >=200 thì thưởng = lương * 20%\\nNếu tổng số giờ làm của nhân viên <200 và >=100 thì thưởng = lương * 10%\\nNếu tổng số giờ làm của nhân viên <100 thì thưởng = 0\\n'"
      ]
     },
     "execution_count": 6,
     "metadata": {},
     "output_type": "execute_result"
    }
   ],
   "execution_count": 6
  },
  {
   "metadata": {},
   "cell_type": "markdown",
   "source": "Cách làm 1: Gốc",
   "id": "e6ae5184dd52903c"
  },
  {
   "metadata": {
    "ExecuteTime": {
     "end_time": "2024-06-04T18:01:12.696920Z",
     "start_time": "2024-06-04T18:01:12.690100Z"
    }
   },
   "cell_type": "code",
   "source": [
    "class NhanVien:\n",
    "    def __init__(self, ten, tuoi, dia_chi, tien_luong, tong_so_gio_lam):\n",
    "        self.ten = ten\n",
    "        self.tuoi = tuoi\n",
    "        self.dia_chi = dia_chi\n",
    "        self.tien_luong = tien_luong\n",
    "        self.tong_so_gio_lam = tong_so_gio_lam\n",
    "    \n",
    "    def print_info(self):\n",
    "        print(f\"Tên: {self.ten}\")\n",
    "        print(f\"Tuổi: {self.tuoi}\")\n",
    "        print(f\"Địa chỉ: {self.dia_chi}\")\n",
    "        print(f\"Tiền lương: {self.tien_luong}\")\n",
    "        print(f\"Tổng số giờ làm: {self.tong_so_gio_lam}\")\n",
    "    \n",
    "    def tinh_thuong(self):\n",
    "        thuong = 0\n",
    "        if self.tong_so_gio_lam >= 200:\n",
    "            thuong = self.tien_luong * 0.2 + 500000\n",
    "        elif self.tong_so_gio_lam >= 150:\n",
    "            thuong = self.tien_luong * 0.15 + 300000\n",
    "        elif self.tong_so_gio_lam >= 100:\n",
    "            thuong = self.tien_luong * 0.1 + 100000\n",
    "        else:\n",
    "            thuong = self.tien_luong * 0.05\n",
    "        return thuong\n",
    "\n",
    "# Tạo đối tượng nhân viên và kiểm tra các phương thức\n",
    "nv = NhanVien(\"Nguyen Van A\", 30, \"123 Đường ABC, TP.HCM\", 15000000, 180)\n",
    "nv.print_info()\n",
    "print(f\"Tiền thưởng: {nv.tinh_thuong()}\")"
   ],
   "id": "7a7601a0116800b",
   "outputs": [
    {
     "name": "stdout",
     "output_type": "stream",
     "text": [
      "Tên: Nguyen Van A\n",
      "Tuổi: 30\n",
      "Địa chỉ: 123 Đường ABC, TP.HCM\n",
      "Tiền lương: 15000000\n",
      "Tổng số giờ làm: 180\n",
      "Tiền thưởng: 2550000.0\n"
     ]
    }
   ],
   "execution_count": 5
  },
  {
   "metadata": {},
   "cell_type": "markdown",
   "source": "Cách làm 2: Kết hợp kiến thức buổi trước, cho phép người dùng tự nhập dữ liệu",
   "id": "cc51f127d0ece6e6"
  },
  {
   "metadata": {},
   "cell_type": "code",
   "outputs": [
    {
     "name": "stdout",
     "output_type": "stream",
     "text": [
      "Tên: Đặng Long\n",
      "Tuổi: 24\n",
      "Địa chỉ: đường Lê Duẩn, Hà Nội\n",
      "Tiền lương: 20,000,000.0 VND\n",
      "Tổng số giờ làm: 201\n",
      "Tiền thưởng: 4,500,000.0 VND\n",
      "\n"
     ]
    }
   ],
   "execution_count": 3,
   "source": [
    "class NhanVien:\n",
    "    def __init__(self, ten, tuoi, dia_chi, tien_luong, tong_so_gio_lam):\n",
    "        self.ten = ten\n",
    "        self.tuoi = tuoi\n",
    "        self.dia_chi = dia_chi\n",
    "        self.tien_luong = tien_luong\n",
    "        self.tong_so_gio_lam = tong_so_gio_lam\n",
    "    \n",
    "    def print_info(self):\n",
    "        print(f\"Tên: {self.ten}\")\n",
    "        print(f\"Tuổi: {self.tuoi}\")\n",
    "        print(f\"Địa chỉ: {self.dia_chi}\")\n",
    "        print(f\"Tiền lương: {self.tien_luong:,} VND\")\n",
    "        print(f\"Tổng số giờ làm: {self.tong_so_gio_lam}\")\n",
    "    \n",
    "    def tinh_thuong(self):\n",
    "        thuong = 0\n",
    "        if self.tong_so_gio_lam >= 200:\n",
    "            thuong = self.tien_luong * 0.2 + 500000\n",
    "        elif self.tong_so_gio_lam >= 150:\n",
    "            thuong = self.tien_luong * 0.15 + 300000\n",
    "        elif self.tong_so_gio_lam >= 100:\n",
    "            thuong = self.tien_luong * 0.1 + 100000\n",
    "        else:\n",
    "            thuong = self.tien_luong * 0.05\n",
    "        return thuong\n",
    "\n",
    "nhan_vien_list = []\n",
    "\n",
    "while True:\n",
    "    ten = input(\"Nhập tên nhân viên (hoặc 'Done' để kết thúc): \")\n",
    "    if ten.lower() == \"done\":\n",
    "        break\n",
    "    tuoi = int(input(\"Nhập tuổi: \"))\n",
    "    dia_chi = input(\"Nhập địa chỉ: \")\n",
    "    tien_luong = float(input(\"Nhập tiền lương: \"))\n",
    "    tong_so_gio_lam = int(input(\"Nhập tổng số giờ làm: \"))\n",
    "    nhan_vien = NhanVien(ten, tuoi, dia_chi, tien_luong, tong_so_gio_lam)\n",
    "    nhan_vien_list.append(nhan_vien)\n",
    "\n",
    "for nv in nhan_vien_list:\n",
    "    nv.print_info()\n",
    "    print(f\"Tiền thưởng: {nv.tinh_thuong():,} VND\\n\")"
   ],
   "id": "3cf0f41d"
  }
 ],
 "metadata": {
  "kernelspec": {
   "display_name": "Python 3 (ipykernel)",
   "language": "python",
   "name": "python3"
  },
  "language_info": {
   "codemirror_mode": {
    "name": "ipython",
    "version": 3
   },
   "file_extension": ".py",
   "mimetype": "text/x-python",
   "name": "python",
   "nbconvert_exporter": "python",
   "pygments_lexer": "ipython3",
   "version": "3.9.6"
  }
 },
 "nbformat": 4,
 "nbformat_minor": 5
}
